{
 "cells": [
  {
   "cell_type": "markdown",
   "id": "696c8b1f",
   "metadata": {},
   "source": [
    "# Term Frequency–Inverse Document Frequency And Kmeans on Wikipedia Articles"
   ]
  },
  {
   "cell_type": "code",
   "execution_count": null,
   "id": "761e6a79",
   "metadata": {},
   "outputs": [],
   "source": [
    "import time\n",
    "from sklearn.feature_extraction.text import TfidfVectorizer\n",
    "from sklearn.cluster import KMeans\n",
    "import os\n",
    "folder_paths = os.listdir(\"./articles\")\n"
   ]
  },
  {
   "cell_type": "markdown",
   "id": "dee44ab2",
   "metadata": {},
   "source": [
    "Checking The quantity of the flies containing the articles"
   ]
  },
  {
   "cell_type": "code",
   "execution_count": null,
   "id": "d368ed7c",
   "metadata": {},
   "outputs": [],
   "source": [
    "len(folder_paths)"
   ]
  },
  {
   "cell_type": "markdown",
   "id": "2a9c9d6e",
   "metadata": {},
   "source": [
    "# Performing Term Frequency–Inverse Document Frequency"
   ]
  },
  {
   "cell_type": "code",
   "execution_count": null,
   "id": "5a51d2dc",
   "metadata": {},
   "outputs": [],
   "source": [
    "folder_paths = os.listdr(\"./articles\")\n",
    "c_path = os.getcwd() \n",
    "paths = [c_path + \"/articles/\" \n",
    "         + s for s in folder_paths]\n",
    "begin_time = time.time()\n",
    "tfidf = TfidfVectorizer(input = 'filename',\n",
    "                        strip_accents = \"unicode\",stop_words = \"english\")\n",
    "termination = time.time()\n",
    "time_span = termination- begin_time"
   ]
  },
  {
   "cell_type": "markdown",
   "id": "594c107a",
   "metadata": {},
   "source": [
    " The time taken to perform TFIDF"
   ]
  },
  {
   "cell_type": "code",
   "execution_count": null,
   "id": "44f792f2",
   "metadata": {},
   "outputs": [],
   "source": [
    "print(\"The Total Time Taken To Perform Term Frequency–inverse Document Frequency/ TDIDF was :\" + time_span)"
   ]
  },
  {
   "cell_type": "markdown",
   "id": "755f0c38",
   "metadata": {},
   "source": [
    "# Performing Kmeans Clustering"
   ]
  },
  {
   "cell_type": "markdown",
   "id": "e22eb1a3",
   "metadata": {},
   "source": [
    "Performing Kmeans Clustering on the articles after they have been processed through TFIDF"
   ]
  },
  {
   "cell_type": "code",
   "execution_count": null,
   "id": "216b1c04",
   "metadata": {},
   "outputs": [],
   "source": [
    "begin_time = time.time()\n",
    "kmeans = KMeans()\n",
    "kmeans.fit(tdidf)\n",
    "termination = time.time()\n",
    "time_span = termination- begin_time"
   ]
  },
  {
   "cell_type": "markdown",
   "id": "ac1d9d83",
   "metadata": {},
   "source": [
    " The time taken to perform Kmeans Clustering"
   ]
  },
  {
   "cell_type": "code",
   "execution_count": null,
   "id": "5de7ddf7",
   "metadata": {},
   "outputs": [],
   "source": [
    "print(\"The Total Time Taken To Perform Kmeans Clustering was :\" + time_span)"
   ]
  }
 ],
 "metadata": {
  "kernelspec": {
   "display_name": "Python 3 (ipykernel)",
   "language": "python",
   "name": "python3"
  },
  "language_info": {
   "codemirror_mode": {
    "name": "ipython",
    "version": 3
   },
   "file_extension": ".py",
   "mimetype": "text/x-python",
   "name": "python",
   "nbconvert_exporter": "python",
   "pygments_lexer": "ipython3",
   "version": "3.9.7"
  }
 },
 "nbformat": 4,
 "nbformat_minor": 5
}
